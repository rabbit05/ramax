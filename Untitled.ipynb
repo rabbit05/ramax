{
 "cells": [
  {
   "cell_type": "code",
   "execution_count": 3,
   "metadata": {},
   "outputs": [],
   "source": [
    "from openpyxl import load_workbook\n",
    "file_input = 'input_vacation.xlsx'"
   ]
  },
  {
   "cell_type": "code",
   "execution_count": 4,
   "metadata": {},
   "outputs": [],
   "source": [
    "wb = load_workbook(file_input)"
   ]
  },
  {
   "cell_type": "code",
   "execution_count": 5,
   "metadata": {},
   "outputs": [
    {
     "name": "stdout",
     "output_type": "stream",
     "text": [
      "['params', 'Quals ', 'PersonalLevel ', 'Months', 'QualLevels ', 'MaxFly ', 'Qualified ', 'RequiredPersonal ', 'RestReq ', 'RestPrior ', 'Starts ', 'maxStarts ']\n"
     ]
    },
    {
     "name": "stderr",
     "output_type": "stream",
     "text": [
      "<ipython-input-5-dbf4d14a9571>:1: DeprecationWarning: Call to deprecated function get_sheet_names (Use wb.sheetnames).\n",
      "  print(wb.get_sheet_names())\n"
     ]
    }
   ],
   "source": [
    "print(wb.get_sheet_names())"
   ]
  },
  {
   "cell_type": "code",
   "execution_count": 6,
   "metadata": {},
   "outputs": [
    {
     "name": "stderr",
     "output_type": "stream",
     "text": [
      "<ipython-input-6-c424870bcba0>:1: DeprecationWarning: Call to deprecated function get_sheet_by_name (Use wb[sheetname]).\n",
      "  sheet = wb.get_sheet_by_name(\"params\")\n"
     ]
    }
   ],
   "source": [
    "sheet = wb.get_sheet_by_name(\"params\")"
   ]
  },
  {
   "cell_type": "code",
   "execution_count": 7,
   "metadata": {},
   "outputs": [],
   "source": [
    "params = {}\n",
    "for i in range(10):\n",
    "    params[sheet['A' + str(i+1)].value] = sheet['B' + str(i+1)].value"
   ]
  },
  {
   "cell_type": "code",
   "execution_count": 8,
   "metadata": {},
   "outputs": [
    {
     "data": {
      "text/plain": [
       "{'REST_YEAR ': 184,\n",
       " 'MIN_REST_SIZE ': 36,\n",
       " 'MIN_REST_LAG': 2,\n",
       " 'TOTAL_RESTS': 4,\n",
       " 'PRIOR_RESTS': 3,\n",
       " 'NOPRIOR_RESTS': 3,\n",
       " 'REST_HIGH': 147,\n",
       " 'REST_LOW': 147,\n",
       " 'nMonths ': 12,\n",
       " 'nQuals ': 10}"
      ]
     },
     "execution_count": 8,
     "metadata": {},
     "output_type": "execute_result"
    }
   ],
   "source": [
    "params"
   ]
  },
  {
   "cell_type": "code",
   "execution_count": 23,
   "metadata": {},
   "outputs": [
    {
     "name": "stderr",
     "output_type": "stream",
     "text": [
      "<ipython-input-23-8b32d28fba96>:2: DeprecationWarning: Call to deprecated function get_sheet_by_name (Use wb[sheetname]).\n",
      "  sheet = wb.get_sheet_by_name(\"PersonalLevel \")\n"
     ]
    }
   ],
   "source": [
    "workers = {}\n",
    "sheet = wb.get_sheet_by_name(\"PersonalLevel \")\n",
    "for i in range(2427):\n",
    "    workers[int(sheet[\"A\" + str(i+1)].value)] = {'PersonalLevel' : int(int(sheet[\"B\" + str(i+1)].value))}"
   ]
  },
  {
   "cell_type": "code",
   "execution_count": 24,
   "metadata": {},
   "outputs": [
    {
     "name": "stderr",
     "output_type": "stream",
     "text": [
      "<ipython-input-24-af8ca2858e93>:1: DeprecationWarning: Call to deprecated function get_sheet_by_name (Use wb[sheetname]).\n",
      "  sheet = wb.get_sheet_by_name(\"MaxFly \")\n"
     ]
    }
   ],
   "source": [
    "sheet = wb.get_sheet_by_name(\"MaxFly \")\n",
    "for i in range(2427):\n",
    "    workers[list(workers.keys())[i]]['MaxFly'] = int(sheet[\"A\" + str(i+1)].value)"
   ]
  },
  {
   "cell_type": "code",
   "execution_count": 30,
   "metadata": {},
   "outputs": [
    {
     "name": "stderr",
     "output_type": "stream",
     "text": [
      "<ipython-input-30-a01ec98ca7f4>:1: DeprecationWarning: Call to deprecated function get_sheet_by_name (Use wb[sheetname]).\n",
      "  sheet = wb.get_sheet_by_name(\"Qualified \")\n"
     ]
    }
   ],
   "source": [
    "sheet = wb.get_sheet_by_name(\"Qualified \")\n",
    "for i in range(2427):\n",
    "    workers[list(workers.keys())[i]]['Qualified'] = []\n",
    "    for j in range(10):\n",
    "        workers[list(workers.keys())[i]]['Qualified'].append(int(sheet.cell(row = j+1, column = i+1).value))"
   ]
  },
  {
   "cell_type": "code",
   "execution_count": 32,
   "metadata": {},
   "outputs": [
    {
     "name": "stderr",
     "output_type": "stream",
     "text": [
      "<ipython-input-32-9362c1edb6b2>:1: DeprecationWarning: Call to deprecated function get_sheet_by_name (Use wb[sheetname]).\n",
      "  sheet = wb.get_sheet_by_name(\"RestReq \")\n"
     ]
    }
   ],
   "source": [
    "sheet = wb.get_sheet_by_name(\"RestReq \")\n",
    "for i in range(2427):\n",
    "    workers[list(workers.keys())[i]]['RestReq'] = []\n",
    "    for j in range(12):\n",
    "        workers[list(workers.keys())[i]]['RestReq'].append(int(sheet.cell(row = i+1, column = j+1).value))"
   ]
  },
  {
   "cell_type": "code",
   "execution_count": 34,
   "metadata": {},
   "outputs": [
    {
     "name": "stderr",
     "output_type": "stream",
     "text": [
      "<ipython-input-34-b024f682c833>:1: DeprecationWarning: Call to deprecated function get_sheet_by_name (Use wb[sheetname]).\n",
      "  sheet = wb.get_sheet_by_name(\"RestPrior \")\n"
     ]
    }
   ],
   "source": [
    "sheet = wb.get_sheet_by_name(\"RestPrior \")\n",
    "for i in range(2427):\n",
    "    workers[list(workers.keys())[i]]['RestPrior'] = []\n",
    "    for j in range(12):\n",
    "        workers[list(workers.keys())[i]]['RestPrior'].append(int(sheet.cell(row = i+1, column = j+1).value))"
   ]
  },
  {
   "cell_type": "code",
   "execution_count": 35,
   "metadata": {},
   "outputs": [
    {
     "name": "stderr",
     "output_type": "stream",
     "text": [
      "<ipython-input-35-92c2b31c4b14>:1: DeprecationWarning: Call to deprecated function get_sheet_by_name (Use wb[sheetname]).\n",
      "  sheet = wb.get_sheet_by_name(\"Starts \")\n"
     ]
    }
   ],
   "source": [
    "sheet = wb.get_sheet_by_name(\"Starts \")\n",
    "for i in range(2427):\n",
    "    workers[list(workers.keys())[i]]['Starts'] = int(sheet.cell(row = i+1, column = 1).value)"
   ]
  },
  {
   "cell_type": "code",
   "execution_count": 37,
   "metadata": {},
   "outputs": [
    {
     "name": "stderr",
     "output_type": "stream",
     "text": [
      "<ipython-input-37-1c3da8290fe0>:1: DeprecationWarning: Call to deprecated function get_sheet_by_name (Use wb[sheetname]).\n",
      "  sheet = wb.get_sheet_by_name(\"maxStarts \")\n"
     ]
    }
   ],
   "source": [
    "sheet = wb.get_sheet_by_name(\"maxStarts \")\n",
    "for i in range(2427):\n",
    "    workers[list(workers.keys())[i]]['maxStarts'] = int(sheet.cell(row = i+1, column = 1).value)"
   ]
  },
  {
   "cell_type": "code",
   "execution_count": 39,
   "metadata": {},
   "outputs": [
    {
     "name": "stderr",
     "output_type": "stream",
     "text": [
      "<ipython-input-39-eab0e78c23cd>:2: DeprecationWarning: Call to deprecated function get_sheet_by_name (Use wb[sheetname]).\n",
      "  sheet = wb.get_sheet_by_name(\"Months\")\n"
     ]
    }
   ],
   "source": [
    "months = {}\n",
    "sheet = wb.get_sheet_by_name(\"Months\")\n",
    "for i in range(12):\n",
    "    months[i] = {}\n",
    "    months[i]['top'] = int(sheet.cell(row = i+1, column = 2).value)"
   ]
  },
  {
   "cell_type": "code",
   "execution_count": 40,
   "metadata": {},
   "outputs": [],
   "source": [
    "for i in range(12):\n",
    "    months[i]['workHours'] = int(sheet.cell(row = i+1, column = 3).value)"
   ]
  },
  {
   "cell_type": "code",
   "execution_count": 43,
   "metadata": {},
   "outputs": [
    {
     "name": "stderr",
     "output_type": "stream",
     "text": [
      "<ipython-input-43-0ad04071b80a>:1: DeprecationWarning: Call to deprecated function get_sheet_by_name (Use wb[sheetname]).\n",
      "  sheet = wb.get_sheet_by_name(\"RequiredPersonal \")\n"
     ]
    }
   ],
   "source": [
    "sheet = wb.get_sheet_by_name(\"RequiredPersonal \")\n",
    "for i in range(10):\n",
    "    months[i]['RequiredPersonal'] = []\n",
    "    for j in range(12):\n",
    "        months[i]['RequiredPersonal'].append(int(sheet.cell(row = i+1, column = j+1).value))\n"
   ]
  },
  {
   "cell_type": "code",
   "execution_count": 44,
   "metadata": {},
   "outputs": [
    {
     "data": {
      "text/plain": [
       "{0: {'top': 0,\n",
       "  'workHours': 74,\n",
       "  'RequiredPersonal': [31746,\n",
       "   29240,\n",
       "   33821,\n",
       "   33549,\n",
       "   29025,\n",
       "   37327,\n",
       "   36847,\n",
       "   36550,\n",
       "   35700,\n",
       "   34224,\n",
       "   31484,\n",
       "   35387]},\n",
       " 1: {'top': 0,\n",
       "  'workHours': 74,\n",
       "  'RequiredPersonal': [10139,\n",
       "   9209,\n",
       "   10320,\n",
       "   10182,\n",
       "   10155,\n",
       "   9339,\n",
       "   10137,\n",
       "   10107,\n",
       "   9706,\n",
       "   9841,\n",
       "   8679,\n",
       "   9164]},\n",
       " 2: {'top': 0,\n",
       "  'workHours': 74,\n",
       "  'RequiredPersonal': [10139,\n",
       "   9209,\n",
       "   10320,\n",
       "   10182,\n",
       "   10155,\n",
       "   9339,\n",
       "   10137,\n",
       "   10107,\n",
       "   9706,\n",
       "   9841,\n",
       "   8679,\n",
       "   9164]},\n",
       " 3: {'top': 0,\n",
       "  'workHours': 74,\n",
       "  'RequiredPersonal': [14233,\n",
       "   11474,\n",
       "   10933,\n",
       "   11806,\n",
       "   11639,\n",
       "   13725,\n",
       "   13187,\n",
       "   13649,\n",
       "   14155,\n",
       "   9705,\n",
       "   12391,\n",
       "   13103]},\n",
       " 4: {'top': 1,\n",
       "  'workHours': 74,\n",
       "  'RequiredPersonal': [12357,\n",
       "   10177,\n",
       "   9844,\n",
       "   9969,\n",
       "   10593,\n",
       "   12009,\n",
       "   11488,\n",
       "   11957,\n",
       "   12292,\n",
       "   9942,\n",
       "   10422,\n",
       "   11250]},\n",
       " 5: {'top': 1,\n",
       "  'workHours': 37,\n",
       "  'RequiredPersonal': [34789,\n",
       "   36442,\n",
       "   35051,\n",
       "   35246,\n",
       "   32949,\n",
       "   40948,\n",
       "   39488,\n",
       "   40144,\n",
       "   40035,\n",
       "   33954,\n",
       "   38549,\n",
       "   39797]},\n",
       " 6: {'top': 1,\n",
       "  'workHours': 37,\n",
       "  'RequiredPersonal': [5224,\n",
       "   5384,\n",
       "   5506,\n",
       "   6105,\n",
       "   5747,\n",
       "   6230,\n",
       "   6293,\n",
       "   5918,\n",
       "   5761,\n",
       "   6376,\n",
       "   6023,\n",
       "   6117]},\n",
       " 7: {'top': 1,\n",
       "  'workHours': 37,\n",
       "  'RequiredPersonal': [5224,\n",
       "   4829,\n",
       "   4929,\n",
       "   5262,\n",
       "   5065,\n",
       "   5466,\n",
       "   5309,\n",
       "   5414,\n",
       "   5260,\n",
       "   5110,\n",
       "   5282,\n",
       "   5344]},\n",
       " 8: {'top': 1,\n",
       "  'workHours': 37,\n",
       "  'RequiredPersonal': [7159,\n",
       "   4997,\n",
       "   6640,\n",
       "   6142,\n",
       "   5901,\n",
       "   7058,\n",
       "   7188,\n",
       "   7191,\n",
       "   7079,\n",
       "   6144,\n",
       "   6802,\n",
       "   6796]},\n",
       " 9: {'top': 0,\n",
       "  'workHours': 74,\n",
       "  'RequiredPersonal': [7722,\n",
       "   7067,\n",
       "   7615,\n",
       "   7118,\n",
       "   7948,\n",
       "   8219,\n",
       "   8503,\n",
       "   8503,\n",
       "   8228,\n",
       "   8459,\n",
       "   8101,\n",
       "   8374]},\n",
       " 10: {'top': 0, 'workHours': 74, 'RequiredPersonal': []},\n",
       " 11: {'top': 0, 'workHours': 37}}"
      ]
     },
     "execution_count": 44,
     "metadata": {},
     "output_type": "execute_result"
    }
   ],
   "source": [
    "months"
   ]
  },
  {
   "cell_type": "code",
   "execution_count": null,
   "metadata": {},
   "outputs": [],
   "source": []
  }
 ],
 "metadata": {
  "kernelspec": {
   "display_name": "Python 3",
   "language": "python",
   "name": "python3"
  },
  "language_info": {
   "codemirror_mode": {
    "name": "ipython",
    "version": 3
   },
   "file_extension": ".py",
   "mimetype": "text/x-python",
   "name": "python",
   "nbconvert_exporter": "python",
   "pygments_lexer": "ipython3",
   "version": "3.8.3"
  }
 },
 "nbformat": 4,
 "nbformat_minor": 4
}
