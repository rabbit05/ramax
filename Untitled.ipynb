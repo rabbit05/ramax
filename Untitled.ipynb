{
 "cells": [
  {
   "cell_type": "code",
   "execution_count": 3,
   "metadata": {},
   "outputs": [],
   "source": [
    "from openpyxl import load_workbook\n",
    "file_input = 'input_vacation.xlsx'"
   ]
  },
  {
   "cell_type": "code",
   "execution_count": 4,
   "metadata": {},
   "outputs": [],
   "source": [
    "wb = load_workbook(file_input)"
   ]
  },
  {
   "cell_type": "code",
   "execution_count": 5,
   "metadata": {},
   "outputs": [
    {
     "name": "stdout",
     "output_type": "stream",
     "text": [
      "['params', 'Quals ', 'PersonalLevel ', 'Months', 'QualLevels ', 'MaxFly ', 'Qualified ', 'RequiredPersonal ', 'RestReq ', 'RestPrior ', 'Starts ', 'maxStarts ']\n"
     ]
    },
    {
     "name": "stderr",
     "output_type": "stream",
     "text": [
      "<ipython-input-5-dbf4d14a9571>:1: DeprecationWarning: Call to deprecated function get_sheet_names (Use wb.sheetnames).\n",
      "  print(wb.get_sheet_names())\n"
     ]
    }
   ],
   "source": [
    "print(wb.get_sheet_names())"
   ]
  },
  {
   "cell_type": "code",
   "execution_count": 6,
   "metadata": {},
   "outputs": [
    {
     "name": "stderr",
     "output_type": "stream",
     "text": [
      "<ipython-input-6-c424870bcba0>:1: DeprecationWarning: Call to deprecated function get_sheet_by_name (Use wb[sheetname]).\n",
      "  sheet = wb.get_sheet_by_name(\"params\")\n"
     ]
    }
   ],
   "source": [
    "sheet = wb.get_sheet_by_name(\"params\")"
   ]
  },
  {
   "cell_type": "code",
   "execution_count": 7,
   "metadata": {},
   "outputs": [],
   "source": [
    "params = {}\n",
    "for i in range(10):\n",
    "    params[sheet['A' + str(i+1)].value] = sheet['B' + str(i+1)].value"
   ]
  },
  {
   "cell_type": "code",
   "execution_count": 8,
   "metadata": {},
   "outputs": [
    {
     "data": {
      "text/plain": [
       "{'REST_YEAR ': 184,\n",
       " 'MIN_REST_SIZE ': 36,\n",
       " 'MIN_REST_LAG': 2,\n",
       " 'TOTAL_RESTS': 4,\n",
       " 'PRIOR_RESTS': 3,\n",
       " 'NOPRIOR_RESTS': 3,\n",
       " 'REST_HIGH': 147,\n",
       " 'REST_LOW': 147,\n",
       " 'nMonths ': 12,\n",
       " 'nQuals ': 10}"
      ]
     },
     "execution_count": 8,
     "metadata": {},
     "output_type": "execute_result"
    }
   ],
   "source": [
    "params"
   ]
  },
  {
   "cell_type": "code",
   "execution_count": 23,
   "metadata": {},
   "outputs": [
    {
     "name": "stderr",
     "output_type": "stream",
     "text": [
      "<ipython-input-23-8b32d28fba96>:2: DeprecationWarning: Call to deprecated function get_sheet_by_name (Use wb[sheetname]).\n",
      "  sheet = wb.get_sheet_by_name(\"PersonalLevel \")\n"
     ]
    }
   ],
   "source": [
    "workers = {}\n",
    "sheet = wb.get_sheet_by_name(\"PersonalLevel \")\n",
    "for i in range(2427):\n",
    "    workers[int(sheet[\"A\" + str(i+1)].value)] = {'PersonalLevel' : int(int(sheet[\"B\" + str(i+1)].value))}"
   ]
  },
  {
   "cell_type": "code",
   "execution_count": 24,
   "metadata": {},
   "outputs": [
    {
     "name": "stderr",
     "output_type": "stream",
     "text": [
      "<ipython-input-24-af8ca2858e93>:1: DeprecationWarning: Call to deprecated function get_sheet_by_name (Use wb[sheetname]).\n",
      "  sheet = wb.get_sheet_by_name(\"MaxFly \")\n"
     ]
    }
   ],
   "source": [
    "sheet = wb.get_sheet_by_name(\"MaxFly \")\n",
    "for i in range(2427):\n",
    "    workers[list(workers.keys())[i]]['MaxFly'] = int(sheet[\"A\" + str(i+1)].value)"
   ]
  },
  {
   "cell_type": "code",
   "execution_count": 30,
   "metadata": {},
   "outputs": [
    {
     "name": "stderr",
     "output_type": "stream",
     "text": [
      "<ipython-input-30-a01ec98ca7f4>:1: DeprecationWarning: Call to deprecated function get_sheet_by_name (Use wb[sheetname]).\n",
      "  sheet = wb.get_sheet_by_name(\"Qualified \")\n"
     ]
    }
   ],
   "source": [
    "sheet = wb.get_sheet_by_name(\"Qualified \")\n",
    "for i in range(2427):\n",
    "    workers[list(workers.keys())[i]]['Qualified'] = []\n",
    "    for j in range(10):\n",
    "        workers[list(workers.keys())[i]]['Qualified'].append(int(sheet.cell(row = j+1, column = i+1).value))"
   ]
  },
  {
   "cell_type": "code",
   "execution_count": 32,
   "metadata": {},
   "outputs": [
    {
     "name": "stderr",
     "output_type": "stream",
     "text": [
      "<ipython-input-32-9362c1edb6b2>:1: DeprecationWarning: Call to deprecated function get_sheet_by_name (Use wb[sheetname]).\n",
      "  sheet = wb.get_sheet_by_name(\"RestReq \")\n"
     ]
    }
   ],
   "source": [
    "sheet = wb.get_sheet_by_name(\"RestReq \")\n",
    "for i in range(2427):\n",
    "    workers[list(workers.keys())[i]]['RestReq'] = []\n",
    "    for j in range(12):\n",
    "        workers[list(workers.keys())[i]]['RestReq'].append(int(sheet.cell(row = i+1, column = j+1).value))"
   ]
  },
  {
   "cell_type": "code",
   "execution_count": 34,
   "metadata": {},
   "outputs": [
    {
     "name": "stderr",
     "output_type": "stream",
     "text": [
      "<ipython-input-34-b024f682c833>:1: DeprecationWarning: Call to deprecated function get_sheet_by_name (Use wb[sheetname]).\n",
      "  sheet = wb.get_sheet_by_name(\"RestPrior \")\n"
     ]
    }
   ],
   "source": [
    "sheet = wb.get_sheet_by_name(\"RestPrior \")\n",
    "for i in range(2427):\n",
    "    workers[list(workers.keys())[i]]['RestPrior'] = []\n",
    "    for j in range(12):\n",
    "        workers[list(workers.keys())[i]]['RestPrior'].append(int(sheet.cell(row = i+1, column = j+1).value))"
   ]
  },
  {
   "cell_type": "code",
   "execution_count": 35,
   "metadata": {},
   "outputs": [
    {
     "name": "stderr",
     "output_type": "stream",
     "text": [
      "<ipython-input-35-92c2b31c4b14>:1: DeprecationWarning: Call to deprecated function get_sheet_by_name (Use wb[sheetname]).\n",
      "  sheet = wb.get_sheet_by_name(\"Starts \")\n"
     ]
    }
   ],
   "source": [
    "sheet = wb.get_sheet_by_name(\"Starts \")\n",
    "for i in range(2427):\n",
    "    workers[list(workers.keys())[i]]['Starts'] = int(sheet.cell(row = i+1, column = 1).value)"
   ]
  },
  {
   "cell_type": "code",
   "execution_count": 37,
   "metadata": {},
   "outputs": [
    {
     "name": "stderr",
     "output_type": "stream",
     "text": [
      "<ipython-input-37-1c3da8290fe0>:1: DeprecationWarning: Call to deprecated function get_sheet_by_name (Use wb[sheetname]).\n",
      "  sheet = wb.get_sheet_by_name(\"maxStarts \")\n"
     ]
    }
   ],
   "source": [
    "sheet = wb.get_sheet_by_name(\"maxStarts \")\n",
    "for i in range(2427):\n",
    "    workers[list(workers.keys())[i]]['maxStarts'] = int(sheet.cell(row = i+1, column = 1).value)"
   ]
  },
  {
   "cell_type": "code",
   "execution_count": null,
   "metadata": {},
   "outputs": [],
   "source": []
  }
 ],
 "metadata": {
  "kernelspec": {
   "display_name": "Python 3",
   "language": "python",
   "name": "python3"
  },
  "language_info": {
   "codemirror_mode": {
    "name": "ipython",
    "version": 3
   },
   "file_extension": ".py",
   "mimetype": "text/x-python",
   "name": "python",
   "nbconvert_exporter": "python",
   "pygments_lexer": "ipython3",
   "version": "3.8.3"
  }
 },
 "nbformat": 4,
 "nbformat_minor": 4
}
